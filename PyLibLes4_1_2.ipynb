{
 "cells": [
  {
   "cell_type": "markdown",
   "id": "95780b2a-196d-45b1-8f2a-f86632e35b89",
   "metadata": {},
   "source": [
    "# Задание 1\n",
    "Импортируйте библиотеки pandas, numpy и matplotlib.\n",
    "Загрузите \"Boston House Prices dataset\" из встроенных наборов \n",
    "данных библиотеки sklearn.\n",
    "Создайте датафреймы X и y из этих данных.\n",
    "Разбейте эти датафреймы на тренировочные (X_train, y_train) и тестовые (X_test, y_test)\n",
    "с помощью функции train_test_split так, чтобы размер тестовой выборки\n",
    "составлял 20% от всех данных, при этом аргумент random_state должен быть равен 42.\n",
    "Масштабируйте данные с помощью StandardScaler.\n",
    "Постройте модель TSNE на тренировочный данных с параметрами:\n",
    "n_components=2, learning_rate=250, random_state=42.\n",
    "Постройте диаграмму рассеяния на этих данных.\n"
   ]
  },
  {
   "cell_type": "code",
   "execution_count": 142,
   "id": "81fc083b-ce67-489b-9e8c-ed59bb866413",
   "metadata": {},
   "outputs": [],
   "source": [
    "import numpy as np\n",
    "import pandas as pd\n",
    "\n",
    "import matplotlib\n",
    "import matplotlib.pyplot as plt\n",
    "import seaborn as sns\n",
    "%matplotlib inline\n",
    "\n",
    "from sklearn.model_selection import train_test_split\n",
    "\n",
    "from sklearn.preprocessing import StandardScaler\n",
    "from sklearn.cluster import KMeans\n",
    "\n",
    "from sklearn.metrics import mean_squared_error as mse, r2_score as r2\n",
    "\n",
    "from IPython.display import Image"
   ]
  },
  {
   "cell_type": "code",
   "execution_count": 143,
   "id": "8e5673a8-41c1-4929-a8fa-e131508a1a67",
   "metadata": {},
   "outputs": [],
   "source": [
    "from sklearn.manifold import TSNE"
   ]
  },
  {
   "cell_type": "code",
   "execution_count": 144,
   "id": "71dc4511-0e75-420f-b19c-d317ff88d87f",
   "metadata": {},
   "outputs": [],
   "source": [
    "import warnings\n",
    "warnings.filterwarnings('ignore')\n",
    "matplotlib.rcParams.update({'font.size': 14})"
   ]
  },
  {
   "cell_type": "code",
   "execution_count": 145,
   "id": "3559220b-93d1-4d47-acb8-afa13d503fc9",
   "metadata": {},
   "outputs": [],
   "source": [
    "data_url = \"http://lib.stat.cmu.edu/datasets/boston\"\n",
    "raw_df = pd.read_csv(data_url, sep=\"\\s+\", skiprows=22, header=None)\n",
    "data = np.hstack([raw_df.values[::2, :], raw_df.values[1::2, :0]])\n",
    "target = raw_df.values[1::2, 2]"
   ]
  },
  {
   "cell_type": "code",
   "execution_count": 146,
   "id": "ac78a6a1-907c-4c95-ba5a-80d93fa62541",
   "metadata": {},
   "outputs": [
    {
     "data": {
      "text/html": [
       "<div>\n",
       "<style scoped>\n",
       "    .dataframe tbody tr th:only-of-type {\n",
       "        vertical-align: middle;\n",
       "    }\n",
       "\n",
       "    .dataframe tbody tr th {\n",
       "        vertical-align: top;\n",
       "    }\n",
       "\n",
       "    .dataframe thead th {\n",
       "        text-align: right;\n",
       "    }\n",
       "</style>\n",
       "<table border=\"1\" class=\"dataframe\">\n",
       "  <thead>\n",
       "    <tr style=\"text-align: right;\">\n",
       "      <th></th>\n",
       "      <th>0</th>\n",
       "      <th>1</th>\n",
       "      <th>2</th>\n",
       "      <th>3</th>\n",
       "      <th>4</th>\n",
       "      <th>5</th>\n",
       "      <th>6</th>\n",
       "      <th>7</th>\n",
       "      <th>8</th>\n",
       "      <th>9</th>\n",
       "      <th>10</th>\n",
       "    </tr>\n",
       "  </thead>\n",
       "  <tbody>\n",
       "    <tr>\n",
       "      <th>0</th>\n",
       "      <td>0.00632</td>\n",
       "      <td>18.00</td>\n",
       "      <td>2.31</td>\n",
       "      <td>0.0</td>\n",
       "      <td>0.538</td>\n",
       "      <td>6.575</td>\n",
       "      <td>65.2</td>\n",
       "      <td>4.0900</td>\n",
       "      <td>1.0</td>\n",
       "      <td>296.0</td>\n",
       "      <td>15.3</td>\n",
       "    </tr>\n",
       "    <tr>\n",
       "      <th>1</th>\n",
       "      <td>396.90000</td>\n",
       "      <td>4.98</td>\n",
       "      <td>24.00</td>\n",
       "      <td>NaN</td>\n",
       "      <td>NaN</td>\n",
       "      <td>NaN</td>\n",
       "      <td>NaN</td>\n",
       "      <td>NaN</td>\n",
       "      <td>NaN</td>\n",
       "      <td>NaN</td>\n",
       "      <td>NaN</td>\n",
       "    </tr>\n",
       "    <tr>\n",
       "      <th>2</th>\n",
       "      <td>0.02731</td>\n",
       "      <td>0.00</td>\n",
       "      <td>7.07</td>\n",
       "      <td>0.0</td>\n",
       "      <td>0.469</td>\n",
       "      <td>6.421</td>\n",
       "      <td>78.9</td>\n",
       "      <td>4.9671</td>\n",
       "      <td>2.0</td>\n",
       "      <td>242.0</td>\n",
       "      <td>17.8</td>\n",
       "    </tr>\n",
       "    <tr>\n",
       "      <th>3</th>\n",
       "      <td>396.90000</td>\n",
       "      <td>9.14</td>\n",
       "      <td>21.60</td>\n",
       "      <td>NaN</td>\n",
       "      <td>NaN</td>\n",
       "      <td>NaN</td>\n",
       "      <td>NaN</td>\n",
       "      <td>NaN</td>\n",
       "      <td>NaN</td>\n",
       "      <td>NaN</td>\n",
       "      <td>NaN</td>\n",
       "    </tr>\n",
       "    <tr>\n",
       "      <th>4</th>\n",
       "      <td>0.02729</td>\n",
       "      <td>0.00</td>\n",
       "      <td>7.07</td>\n",
       "      <td>0.0</td>\n",
       "      <td>0.469</td>\n",
       "      <td>7.185</td>\n",
       "      <td>61.1</td>\n",
       "      <td>4.9671</td>\n",
       "      <td>2.0</td>\n",
       "      <td>242.0</td>\n",
       "      <td>17.8</td>\n",
       "    </tr>\n",
       "  </tbody>\n",
       "</table>\n",
       "</div>"
      ],
      "text/plain": [
       "          0      1      2    3      4      5     6       7    8      9     10\n",
       "0    0.00632  18.00   2.31  0.0  0.538  6.575  65.2  4.0900  1.0  296.0  15.3\n",
       "1  396.90000   4.98  24.00  NaN    NaN    NaN   NaN     NaN  NaN    NaN   NaN\n",
       "2    0.02731   0.00   7.07  0.0  0.469  6.421  78.9  4.9671  2.0  242.0  17.8\n",
       "3  396.90000   9.14  21.60  NaN    NaN    NaN   NaN     NaN  NaN    NaN   NaN\n",
       "4    0.02729   0.00   7.07  0.0  0.469  7.185  61.1  4.9671  2.0  242.0  17.8"
      ]
     },
     "execution_count": 146,
     "metadata": {},
     "output_type": "execute_result"
    }
   ],
   "source": [
    "raw_df.head()"
   ]
  },
  {
   "cell_type": "code",
   "execution_count": 147,
   "id": "153bf322-bc0e-4df5-b366-0cab72df159d",
   "metadata": {},
   "outputs": [
    {
     "data": {
      "text/plain": [
       "(506, 11)"
      ]
     },
     "execution_count": 147,
     "metadata": {},
     "output_type": "execute_result"
    }
   ],
   "source": [
    "data.shape"
   ]
  },
  {
   "cell_type": "code",
   "execution_count": 148,
   "id": "9dadbbb3-dac0-4d9d-8dd5-05458cf57eb0",
   "metadata": {},
   "outputs": [],
   "source": [
    "raw_df.to_csv('boston.csv', index=False)"
   ]
  },
  {
   "cell_type": "code",
   "execution_count": 149,
   "id": "45c32cd1-2f2e-45c7-b83f-8814b404c4d1",
   "metadata": {},
   "outputs": [
    {
     "data": {
      "text/html": [
       "<div>\n",
       "<style scoped>\n",
       "    .dataframe tbody tr th:only-of-type {\n",
       "        vertical-align: middle;\n",
       "    }\n",
       "\n",
       "    .dataframe tbody tr th {\n",
       "        vertical-align: top;\n",
       "    }\n",
       "\n",
       "    .dataframe thead th {\n",
       "        text-align: right;\n",
       "    }\n",
       "</style>\n",
       "<table border=\"1\" class=\"dataframe\">\n",
       "  <thead>\n",
       "    <tr style=\"text-align: right;\">\n",
       "      <th></th>\n",
       "      <th>0</th>\n",
       "      <th>1</th>\n",
       "      <th>2</th>\n",
       "      <th>3</th>\n",
       "      <th>4</th>\n",
       "      <th>5</th>\n",
       "      <th>6</th>\n",
       "      <th>7</th>\n",
       "      <th>8</th>\n",
       "      <th>9</th>\n",
       "      <th>10</th>\n",
       "    </tr>\n",
       "  </thead>\n",
       "  <tbody>\n",
       "    <tr>\n",
       "      <th>0</th>\n",
       "      <td>0.00632</td>\n",
       "      <td>18.00</td>\n",
       "      <td>2.31</td>\n",
       "      <td>0.0</td>\n",
       "      <td>0.538</td>\n",
       "      <td>6.575</td>\n",
       "      <td>65.2</td>\n",
       "      <td>4.0900</td>\n",
       "      <td>1.0</td>\n",
       "      <td>296.0</td>\n",
       "      <td>15.3</td>\n",
       "    </tr>\n",
       "    <tr>\n",
       "      <th>1</th>\n",
       "      <td>396.90000</td>\n",
       "      <td>4.98</td>\n",
       "      <td>24.00</td>\n",
       "      <td>NaN</td>\n",
       "      <td>NaN</td>\n",
       "      <td>NaN</td>\n",
       "      <td>NaN</td>\n",
       "      <td>NaN</td>\n",
       "      <td>NaN</td>\n",
       "      <td>NaN</td>\n",
       "      <td>NaN</td>\n",
       "    </tr>\n",
       "    <tr>\n",
       "      <th>2</th>\n",
       "      <td>0.02731</td>\n",
       "      <td>0.00</td>\n",
       "      <td>7.07</td>\n",
       "      <td>0.0</td>\n",
       "      <td>0.469</td>\n",
       "      <td>6.421</td>\n",
       "      <td>78.9</td>\n",
       "      <td>4.9671</td>\n",
       "      <td>2.0</td>\n",
       "      <td>242.0</td>\n",
       "      <td>17.8</td>\n",
       "    </tr>\n",
       "    <tr>\n",
       "      <th>3</th>\n",
       "      <td>396.90000</td>\n",
       "      <td>9.14</td>\n",
       "      <td>21.60</td>\n",
       "      <td>NaN</td>\n",
       "      <td>NaN</td>\n",
       "      <td>NaN</td>\n",
       "      <td>NaN</td>\n",
       "      <td>NaN</td>\n",
       "      <td>NaN</td>\n",
       "      <td>NaN</td>\n",
       "      <td>NaN</td>\n",
       "    </tr>\n",
       "    <tr>\n",
       "      <th>4</th>\n",
       "      <td>0.02729</td>\n",
       "      <td>0.00</td>\n",
       "      <td>7.07</td>\n",
       "      <td>0.0</td>\n",
       "      <td>0.469</td>\n",
       "      <td>7.185</td>\n",
       "      <td>61.1</td>\n",
       "      <td>4.9671</td>\n",
       "      <td>2.0</td>\n",
       "      <td>242.0</td>\n",
       "      <td>17.8</td>\n",
       "    </tr>\n",
       "  </tbody>\n",
       "</table>\n",
       "</div>"
      ],
      "text/plain": [
       "           0      1      2    3      4      5     6       7    8      9    10\n",
       "0    0.00632  18.00   2.31  0.0  0.538  6.575  65.2  4.0900  1.0  296.0  15.3\n",
       "1  396.90000   4.98  24.00  NaN    NaN    NaN   NaN     NaN  NaN    NaN   NaN\n",
       "2    0.02731   0.00   7.07  0.0  0.469  6.421  78.9  4.9671  2.0  242.0  17.8\n",
       "3  396.90000   9.14  21.60  NaN    NaN    NaN   NaN     NaN  NaN    NaN   NaN\n",
       "4    0.02729   0.00   7.07  0.0  0.469  7.185  61.1  4.9671  2.0  242.0  17.8"
      ]
     },
     "execution_count": 149,
     "metadata": {},
     "output_type": "execute_result"
    }
   ],
   "source": [
    "boston = pd.read_csv('boston.csv', sep=',')\n",
    "boston.head()"
   ]
  },
  {
   "cell_type": "code",
   "execution_count": 150,
   "id": "7672f68b-674a-40fb-ac29-8681f5777f47",
   "metadata": {},
   "outputs": [
    {
     "data": {
      "text/html": [
       "<div>\n",
       "<style scoped>\n",
       "    .dataframe tbody tr th:only-of-type {\n",
       "        vertical-align: middle;\n",
       "    }\n",
       "\n",
       "    .dataframe tbody tr th {\n",
       "        vertical-align: top;\n",
       "    }\n",
       "\n",
       "    .dataframe thead th {\n",
       "        text-align: right;\n",
       "    }\n",
       "</style>\n",
       "<table border=\"1\" class=\"dataframe\">\n",
       "  <thead>\n",
       "    <tr style=\"text-align: right;\">\n",
       "      <th></th>\n",
       "      <th>CRIM</th>\n",
       "      <th>ZN</th>\n",
       "      <th>INDUS</th>\n",
       "      <th>CHAS</th>\n",
       "      <th>NOX</th>\n",
       "      <th>RM</th>\n",
       "      <th>AGE</th>\n",
       "      <th>DIS</th>\n",
       "      <th>RAD</th>\n",
       "      <th>TAX</th>\n",
       "      <th>PTRATIO</th>\n",
       "    </tr>\n",
       "  </thead>\n",
       "  <tbody>\n",
       "    <tr>\n",
       "      <th>0</th>\n",
       "      <td>0.00632</td>\n",
       "      <td>18.00</td>\n",
       "      <td>2.31</td>\n",
       "      <td>0.0</td>\n",
       "      <td>0.538</td>\n",
       "      <td>6.575</td>\n",
       "      <td>65.2</td>\n",
       "      <td>4.0900</td>\n",
       "      <td>1.0</td>\n",
       "      <td>296.0</td>\n",
       "      <td>15.3</td>\n",
       "    </tr>\n",
       "    <tr>\n",
       "      <th>1</th>\n",
       "      <td>396.90000</td>\n",
       "      <td>4.98</td>\n",
       "      <td>24.00</td>\n",
       "      <td>NaN</td>\n",
       "      <td>NaN</td>\n",
       "      <td>NaN</td>\n",
       "      <td>NaN</td>\n",
       "      <td>NaN</td>\n",
       "      <td>NaN</td>\n",
       "      <td>NaN</td>\n",
       "      <td>NaN</td>\n",
       "    </tr>\n",
       "    <tr>\n",
       "      <th>2</th>\n",
       "      <td>0.02731</td>\n",
       "      <td>0.00</td>\n",
       "      <td>7.07</td>\n",
       "      <td>0.0</td>\n",
       "      <td>0.469</td>\n",
       "      <td>6.421</td>\n",
       "      <td>78.9</td>\n",
       "      <td>4.9671</td>\n",
       "      <td>2.0</td>\n",
       "      <td>242.0</td>\n",
       "      <td>17.8</td>\n",
       "    </tr>\n",
       "    <tr>\n",
       "      <th>3</th>\n",
       "      <td>396.90000</td>\n",
       "      <td>9.14</td>\n",
       "      <td>21.60</td>\n",
       "      <td>NaN</td>\n",
       "      <td>NaN</td>\n",
       "      <td>NaN</td>\n",
       "      <td>NaN</td>\n",
       "      <td>NaN</td>\n",
       "      <td>NaN</td>\n",
       "      <td>NaN</td>\n",
       "      <td>NaN</td>\n",
       "    </tr>\n",
       "    <tr>\n",
       "      <th>4</th>\n",
       "      <td>0.02729</td>\n",
       "      <td>0.00</td>\n",
       "      <td>7.07</td>\n",
       "      <td>0.0</td>\n",
       "      <td>0.469</td>\n",
       "      <td>7.185</td>\n",
       "      <td>61.1</td>\n",
       "      <td>4.9671</td>\n",
       "      <td>2.0</td>\n",
       "      <td>242.0</td>\n",
       "      <td>17.8</td>\n",
       "    </tr>\n",
       "  </tbody>\n",
       "</table>\n",
       "</div>"
      ],
      "text/plain": [
       "        CRIM     ZN  INDUS  CHAS    NOX     RM   AGE     DIS  RAD    TAX  \\\n",
       "0    0.00632  18.00   2.31   0.0  0.538  6.575  65.2  4.0900  1.0  296.0   \n",
       "1  396.90000   4.98  24.00   NaN    NaN    NaN   NaN     NaN  NaN    NaN   \n",
       "2    0.02731   0.00   7.07   0.0  0.469  6.421  78.9  4.9671  2.0  242.0   \n",
       "3  396.90000   9.14  21.60   NaN    NaN    NaN   NaN     NaN  NaN    NaN   \n",
       "4    0.02729   0.00   7.07   0.0  0.469  7.185  61.1  4.9671  2.0  242.0   \n",
       "\n",
       "   PTRATIO  \n",
       "0     15.3  \n",
       "1      NaN  \n",
       "2     17.8  \n",
       "3      NaN  \n",
       "4     17.8  "
      ]
     },
     "execution_count": 150,
     "metadata": {},
     "output_type": "execute_result"
    }
   ],
   "source": [
    "boston.columns = ['CRIM', 'ZN', 'INDUS', 'CHAS', 'NOX', 'RM', 'AGE', 'DIS', 'RAD', 'TAX', 'PTRATIO']\n",
    "boston.head()"
   ]
  },
  {
   "cell_type": "code",
   "execution_count": 151,
   "id": "708c5a40-558d-436d-a882-452daacced71",
   "metadata": {},
   "outputs": [
    {
     "data": {
      "text/plain": [
       "array(['CRIM', 'ZN', 'INDUS', 'CHAS', 'NOX', 'RM', 'AGE', 'DIS', 'RAD',\n",
       "       'TAX', 'PTRATIO'], dtype='<U7')"
      ]
     },
     "execution_count": 151,
     "metadata": {},
     "output_type": "execute_result"
    }
   ],
   "source": [
    "feature_names = np.array(boston.keys(), dtype='<U7')\n",
    "feature_names"
   ]
  },
  {
   "cell_type": "code",
   "execution_count": 152,
   "id": "df53425e-f471-4a35-af40-67a133d99399",
   "metadata": {},
   "outputs": [],
   "source": [
    "data = np.hstack([boston.values[::2, :], boston.values[1::2, :0]])\n",
    "target = boston.values[1::2, 2]"
   ]
  },
  {
   "cell_type": "code",
   "execution_count": 153,
   "id": "2a753ed7-5c77-406e-8016-7e582abc04b6",
   "metadata": {},
   "outputs": [
    {
     "data": {
      "text/html": [
       "<div>\n",
       "<style scoped>\n",
       "    .dataframe tbody tr th:only-of-type {\n",
       "        vertical-align: middle;\n",
       "    }\n",
       "\n",
       "    .dataframe tbody tr th {\n",
       "        vertical-align: top;\n",
       "    }\n",
       "\n",
       "    .dataframe thead th {\n",
       "        text-align: right;\n",
       "    }\n",
       "</style>\n",
       "<table border=\"1\" class=\"dataframe\">\n",
       "  <thead>\n",
       "    <tr style=\"text-align: right;\">\n",
       "      <th></th>\n",
       "      <th>CRIM</th>\n",
       "      <th>ZN</th>\n",
       "      <th>INDUS</th>\n",
       "      <th>CHAS</th>\n",
       "      <th>NOX</th>\n",
       "      <th>RM</th>\n",
       "      <th>AGE</th>\n",
       "      <th>DIS</th>\n",
       "      <th>RAD</th>\n",
       "      <th>TAX</th>\n",
       "      <th>PTRATIO</th>\n",
       "    </tr>\n",
       "  </thead>\n",
       "  <tbody>\n",
       "    <tr>\n",
       "      <th>0</th>\n",
       "      <td>0.00632</td>\n",
       "      <td>18.0</td>\n",
       "      <td>2.31</td>\n",
       "      <td>0.0</td>\n",
       "      <td>0.538</td>\n",
       "      <td>6.575</td>\n",
       "      <td>65.2</td>\n",
       "      <td>4.0900</td>\n",
       "      <td>1.0</td>\n",
       "      <td>296.0</td>\n",
       "      <td>15.3</td>\n",
       "    </tr>\n",
       "    <tr>\n",
       "      <th>1</th>\n",
       "      <td>0.02731</td>\n",
       "      <td>0.0</td>\n",
       "      <td>7.07</td>\n",
       "      <td>0.0</td>\n",
       "      <td>0.469</td>\n",
       "      <td>6.421</td>\n",
       "      <td>78.9</td>\n",
       "      <td>4.9671</td>\n",
       "      <td>2.0</td>\n",
       "      <td>242.0</td>\n",
       "      <td>17.8</td>\n",
       "    </tr>\n",
       "    <tr>\n",
       "      <th>2</th>\n",
       "      <td>0.02729</td>\n",
       "      <td>0.0</td>\n",
       "      <td>7.07</td>\n",
       "      <td>0.0</td>\n",
       "      <td>0.469</td>\n",
       "      <td>7.185</td>\n",
       "      <td>61.1</td>\n",
       "      <td>4.9671</td>\n",
       "      <td>2.0</td>\n",
       "      <td>242.0</td>\n",
       "      <td>17.8</td>\n",
       "    </tr>\n",
       "    <tr>\n",
       "      <th>3</th>\n",
       "      <td>0.03237</td>\n",
       "      <td>0.0</td>\n",
       "      <td>2.18</td>\n",
       "      <td>0.0</td>\n",
       "      <td>0.458</td>\n",
       "      <td>6.998</td>\n",
       "      <td>45.8</td>\n",
       "      <td>6.0622</td>\n",
       "      <td>3.0</td>\n",
       "      <td>222.0</td>\n",
       "      <td>18.7</td>\n",
       "    </tr>\n",
       "    <tr>\n",
       "      <th>4</th>\n",
       "      <td>0.06905</td>\n",
       "      <td>0.0</td>\n",
       "      <td>2.18</td>\n",
       "      <td>0.0</td>\n",
       "      <td>0.458</td>\n",
       "      <td>7.147</td>\n",
       "      <td>54.2</td>\n",
       "      <td>6.0622</td>\n",
       "      <td>3.0</td>\n",
       "      <td>222.0</td>\n",
       "      <td>18.7</td>\n",
       "    </tr>\n",
       "  </tbody>\n",
       "</table>\n",
       "</div>"
      ],
      "text/plain": [
       "      CRIM    ZN  INDUS  CHAS    NOX     RM   AGE     DIS  RAD    TAX  PTRATIO\n",
       "0  0.00632  18.0   2.31   0.0  0.538  6.575  65.2  4.0900  1.0  296.0     15.3\n",
       "1  0.02731   0.0   7.07   0.0  0.469  6.421  78.9  4.9671  2.0  242.0     17.8\n",
       "2  0.02729   0.0   7.07   0.0  0.469  7.185  61.1  4.9671  2.0  242.0     17.8\n",
       "3  0.03237   0.0   2.18   0.0  0.458  6.998  45.8  6.0622  3.0  222.0     18.7\n",
       "4  0.06905   0.0   2.18   0.0  0.458  7.147  54.2  6.0622  3.0  222.0     18.7"
      ]
     },
     "execution_count": 153,
     "metadata": {},
     "output_type": "execute_result"
    }
   ],
   "source": [
    "X = pd.DataFrame(data, columns=feature_names)\n",
    "X.head()"
   ]
  },
  {
   "cell_type": "code",
   "execution_count": 154,
   "id": "43e68ca0-d33e-4eb8-9053-541ea66bd026",
   "metadata": {},
   "outputs": [
    {
     "name": "stdout",
     "output_type": "stream",
     "text": [
      "<class 'pandas.core.frame.DataFrame'>\n",
      "RangeIndex: 506 entries, 0 to 505\n",
      "Data columns (total 11 columns):\n",
      " #   Column   Non-Null Count  Dtype  \n",
      "---  ------   --------------  -----  \n",
      " 0   CRIM     506 non-null    float64\n",
      " 1   ZN       506 non-null    float64\n",
      " 2   INDUS    506 non-null    float64\n",
      " 3   CHAS     506 non-null    float64\n",
      " 4   NOX      506 non-null    float64\n",
      " 5   RM       506 non-null    float64\n",
      " 6   AGE      506 non-null    float64\n",
      " 7   DIS      506 non-null    float64\n",
      " 8   RAD      506 non-null    float64\n",
      " 9   TAX      506 non-null    float64\n",
      " 10  PTRATIO  506 non-null    float64\n",
      "dtypes: float64(11)\n",
      "memory usage: 43.6 KB\n"
     ]
    }
   ],
   "source": [
    "X.info()"
   ]
  },
  {
   "cell_type": "code",
   "execution_count": 155,
   "id": "524ca71a-b0f6-4cb6-96a3-f1a12393c4f3",
   "metadata": {},
   "outputs": [
    {
     "data": {
      "text/html": [
       "<div>\n",
       "<style scoped>\n",
       "    .dataframe tbody tr th:only-of-type {\n",
       "        vertical-align: middle;\n",
       "    }\n",
       "\n",
       "    .dataframe tbody tr th {\n",
       "        vertical-align: top;\n",
       "    }\n",
       "\n",
       "    .dataframe thead th {\n",
       "        text-align: right;\n",
       "    }\n",
       "</style>\n",
       "<table border=\"1\" class=\"dataframe\">\n",
       "  <thead>\n",
       "    <tr style=\"text-align: right;\">\n",
       "      <th></th>\n",
       "      <th>price</th>\n",
       "    </tr>\n",
       "  </thead>\n",
       "  <tbody>\n",
       "    <tr>\n",
       "      <th>0</th>\n",
       "      <td>24.0</td>\n",
       "    </tr>\n",
       "    <tr>\n",
       "      <th>1</th>\n",
       "      <td>21.6</td>\n",
       "    </tr>\n",
       "    <tr>\n",
       "      <th>2</th>\n",
       "      <td>34.7</td>\n",
       "    </tr>\n",
       "    <tr>\n",
       "      <th>3</th>\n",
       "      <td>33.4</td>\n",
       "    </tr>\n",
       "    <tr>\n",
       "      <th>4</th>\n",
       "      <td>36.2</td>\n",
       "    </tr>\n",
       "  </tbody>\n",
       "</table>\n",
       "</div>"
      ],
      "text/plain": [
       "   price\n",
       "0   24.0\n",
       "1   21.6\n",
       "2   34.7\n",
       "3   33.4\n",
       "4   36.2"
      ]
     },
     "execution_count": 155,
     "metadata": {},
     "output_type": "execute_result"
    }
   ],
   "source": [
    "y = pd.DataFrame(target, columns=['price'])\n",
    "y.head()"
   ]
  },
  {
   "cell_type": "code",
   "execution_count": 156,
   "id": "3ec645ff-347f-459f-b879-c2a352b48f09",
   "metadata": {},
   "outputs": [
    {
     "name": "stdout",
     "output_type": "stream",
     "text": [
      "<class 'pandas.core.frame.DataFrame'>\n",
      "RangeIndex: 506 entries, 0 to 505\n",
      "Data columns (total 1 columns):\n",
      " #   Column  Non-Null Count  Dtype  \n",
      "---  ------  --------------  -----  \n",
      " 0   price   506 non-null    float64\n",
      "dtypes: float64(1)\n",
      "memory usage: 4.1 KB\n"
     ]
    }
   ],
   "source": [
    "y.info()"
   ]
  },
  {
   "cell_type": "code",
   "execution_count": 157,
   "id": "9377ce34-c726-4ad1-9ab0-1577f06b5572",
   "metadata": {},
   "outputs": [],
   "source": [
    "X_train, X_test, y_train, y_test = train_test_split(X, y, test_size=0.2, random_state=42)"
   ]
  },
  {
   "cell_type": "code",
   "execution_count": 158,
   "id": "ad6c260a-6953-4187-9bbc-39b2bc8c3a2b",
   "metadata": {},
   "outputs": [
    {
     "data": {
      "text/plain": [
       "((404, 11), (102, 11), (404, 1), (102, 1))"
      ]
     },
     "execution_count": 158,
     "metadata": {},
     "output_type": "execute_result"
    }
   ],
   "source": [
    "X_train.shape, X_test.shape, y_train.shape, y_test.shape"
   ]
  },
  {
   "cell_type": "code",
   "execution_count": 159,
   "id": "1e9775bc-5b42-43ab-ba09-7c78132b0f9a",
   "metadata": {},
   "outputs": [],
   "source": [
    "scaler = StandardScaler()\n",
    "X_train_scaled = scaler.fit_transform(X_train)"
   ]
  },
  {
   "cell_type": "code",
   "execution_count": 160,
   "id": "2c96f10d-bf3a-4b59-891d-85a05fa23abf",
   "metadata": {},
   "outputs": [],
   "source": [
    "X_test_scaled = scaler.fit_transform(X_test)"
   ]
  },
  {
   "cell_type": "code",
   "execution_count": 161,
   "id": "c0968887-ef31-4e6c-a2b4-4df2f091b810",
   "metadata": {},
   "outputs": [],
   "source": [
    "y_train_scaled = scaler.fit_transform(y_train)"
   ]
  },
  {
   "cell_type": "code",
   "execution_count": 162,
   "id": "730ad382-6838-41ab-83a7-6d2eeef3c439",
   "metadata": {},
   "outputs": [],
   "source": [
    "y_test_scaled = scaler.fit_transform(y_test)"
   ]
  },
  {
   "cell_type": "code",
   "execution_count": 163,
   "id": "bd856c55-e793-4425-9c42-2aa7caa02fe2",
   "metadata": {},
   "outputs": [],
   "source": [
    "X_train_scaled = pd.DataFrame(X_train_scaled, columns=feature_names)"
   ]
  },
  {
   "cell_type": "code",
   "execution_count": 164,
   "id": "4dbb8c07-d759-4df8-ad84-071cbf6b1cdf",
   "metadata": {},
   "outputs": [],
   "source": [
    "X_test_scaled = pd.DataFrame(X_test_scaled, columns=feature_names)"
   ]
  },
  {
   "cell_type": "code",
   "execution_count": 165,
   "id": "9ac6a812-7262-4461-8953-beed45e5d645",
   "metadata": {},
   "outputs": [],
   "source": [
    "tsne = TSNE(n_components=2, learning_rate=250, random_state=42)"
   ]
  },
  {
   "cell_type": "code",
   "execution_count": 166,
   "id": "5b8bf591-6f5b-4597-8435-55f264560849",
   "metadata": {},
   "outputs": [
    {
     "data": {
      "text/plain": [
       "array([[ 2.03312445e+00,  4.00675049e+01],\n",
       "       [-2.59777397e-01, -8.63350677e+00],\n",
       "       [ 1.11565037e+01, -1.91140614e+01],\n",
       "       [-4.70894635e-01,  3.40492935e+01],\n",
       "       [-1.12443943e+01, -7.38618565e+00],\n",
       "       [ 3.69085574e+00, -1.20915585e+01],\n",
       "       [ 2.94891572e+00, -1.02748737e+01],\n",
       "       [ 1.77986012e+01, -2.22723827e+01],\n",
       "       [ 4.58651400e+00,  3.71865997e+01],\n",
       "       [ 3.39935571e-01,  3.07940788e+01],\n",
       "       [ 3.60853791e+00, -1.03033848e+01],\n",
       "       [-4.33774233e+00, -1.39715004e+01],\n",
       "       [-7.82993746e+00, -1.63197079e+01],\n",
       "       [ 4.43566704e+00,  3.65980339e+01],\n",
       "       [-7.38017654e+00, -1.80986137e+01],\n",
       "       [-1.25774088e+01, -7.75435209e+00],\n",
       "       [-3.60615468e+00, -6.47428465e+00],\n",
       "       [ 1.09732637e+01, -2.04442978e+01],\n",
       "       [ 9.92094421e+00, -1.25426931e+01],\n",
       "       [ 1.11773367e+01, -1.64107399e+01],\n",
       "       [ 7.47078657e+00,  4.24302864e+01],\n",
       "       [-6.43584442e+00, -6.66518927e+00],\n",
       "       [ 4.57800579e+00, -1.43922443e+01],\n",
       "       [ 6.00166857e-01, -1.06923857e+01],\n",
       "       [ 1.77363071e+01, -2.26326122e+01],\n",
       "       [-6.70410061e+00, -1.64550781e+01],\n",
       "       [ 1.95375490e+00,  6.71062708e+00],\n",
       "       [ 6.07583523e+00, -7.78214169e+00],\n",
       "       [-1.21389561e+01,  3.89434767e+00],\n",
       "       [ 4.52480316e+00, -1.67999725e+01],\n",
       "       [-1.38471270e+01, -6.17073441e+00],\n",
       "       [-7.21431828e+00, -6.25768375e+00],\n",
       "       [-4.12372828e+00,  6.76425123e+00],\n",
       "       [-1.59798300e+00,  3.30986366e+01],\n",
       "       [ 2.09595823e+00, -1.02605095e+01],\n",
       "       [ 1.71800976e+01, -2.40609398e+01],\n",
       "       [ 1.41791563e+01, -2.34625282e+01],\n",
       "       [-1.33638067e+01, -6.79840708e+00],\n",
       "       [-1.22127542e+01, -6.88560915e+00],\n",
       "       [ 1.55096626e+01, -2.34450874e+01],\n",
       "       [ 1.59459267e+01, -2.22475395e+01],\n",
       "       [ 5.90756607e+00,  5.45552874e+00],\n",
       "       [ 6.15115738e+00,  4.14921074e+01],\n",
       "       [-8.59347248e+00, -1.15878868e+01],\n",
       "       [ 1.92905974e+00,  6.71555853e+00],\n",
       "       [ 5.02254915e+00,  3.43570595e+01],\n",
       "       [-1.39102030e+01, -6.93631411e+00],\n",
       "       [-9.20285702e+00, -1.92527752e+01],\n",
       "       [ 3.56130004e+00,  3.27533073e+01],\n",
       "       [ 4.38541317e+00,  3.52633400e+01],\n",
       "       [ 5.71919584e+00, -1.15712395e+01],\n",
       "       [-6.15348816e+00, -7.22003222e+00],\n",
       "       [ 2.21516490e+00, -1.44951448e+01],\n",
       "       [ 2.25114965e+00, -9.24377823e+00],\n",
       "       [-1.87128985e+00,  3.61379051e+01],\n",
       "       [ 3.91966271e+00,  3.12930984e+01],\n",
       "       [ 6.35503721e+00, -1.14389467e+01],\n",
       "       [ 7.31348419e+00,  4.23509254e+01],\n",
       "       [-4.28923273e+00, -1.39618273e+01],\n",
       "       [ 9.93136787e+00, -1.30345850e+01],\n",
       "       [-2.00758171e+00, -7.72668839e+00],\n",
       "       [-1.69028178e-01, -1.08907042e+01],\n",
       "       [-1.35161362e+01, -1.58605433e+01],\n",
       "       [-1.37660789e+01, -4.82812643e+00],\n",
       "       [-1.28696318e+01, -1.90460281e+01],\n",
       "       [-7.10464418e-02,  3.47102280e+01],\n",
       "       [-1.29657879e+01, -7.31809807e+00],\n",
       "       [ 6.69830859e-01, -1.92814541e+01],\n",
       "       [-1.63242340e+01,  6.10796595e+00],\n",
       "       [-1.19361839e+01, -3.63952112e+00],\n",
       "       [ 9.36195254e-01, -1.13941946e+01],\n",
       "       [-5.40609455e+00,  1.15801060e+00],\n",
       "       [-2.13859844e+00,  3.29238091e+01],\n",
       "       [-5.71710634e+00, -6.53016567e+00],\n",
       "       [-7.00328779e+00, -6.93735600e+00],\n",
       "       [-3.78864932e+00, -1.65504055e+01],\n",
       "       [ 1.17713490e+01, -2.30789509e+01],\n",
       "       [-2.31275654e+00, -1.69867096e+01],\n",
       "       [-4.38205051e+00,  7.11535645e+00],\n",
       "       [ 1.17988479e+00,  4.05780182e+01],\n",
       "       [ 1.07059395e+00,  3.86892662e+01],\n",
       "       [ 3.88225222e+00,  2.54905548e+01],\n",
       "       [ 6.65668583e+00,  3.27398324e+00],\n",
       "       [ 4.88139868e+00,  4.34790993e+00],\n",
       "       [ 5.54200649e+00,  3.25555115e+01],\n",
       "       [-1.45875368e+01,  5.36686182e+00],\n",
       "       [ 4.32128382e+00,  2.49437790e+01],\n",
       "       [ 9.45944118e+00, -1.59952974e+01],\n",
       "       [ 3.35305786e+00,  3.11860409e+01],\n",
       "       [-5.62522840e+00,  2.09543419e+00],\n",
       "       [-4.68381882e+00, -6.01100016e+00],\n",
       "       [ 3.14176726e+00,  3.78301277e+01],\n",
       "       [ 5.44847059e+00,  3.96829185e+01],\n",
       "       [ 1.41425629e+01, -2.37868423e+01],\n",
       "       [ 1.16774740e+01, -1.63023376e+01],\n",
       "       [-1.19122639e+01, -4.35603142e+00],\n",
       "       [ 5.16025972e+00,  3.52954979e+01],\n",
       "       [-3.85500669e+00,  5.49065781e+00],\n",
       "       [-8.58850956e+00, -1.16980858e+01],\n",
       "       [ 1.40838218e+00,  6.79047537e+00],\n",
       "       [ 5.16997957e+00,  4.22578382e+00],\n",
       "       [-2.89206958e+00, -1.95857658e+01],\n",
       "       [ 7.89166594e+00, -1.61226883e+01],\n",
       "       [ 1.07728224e+01, -1.44536762e+01],\n",
       "       [-5.11838484e+00,  2.45361495e+00],\n",
       "       [ 4.10493994e+00,  7.06517172e+00],\n",
       "       [ 1.80100651e+01, -2.40156898e+01],\n",
       "       [-8.03304863e+00, -1.70660858e+01],\n",
       "       [ 3.61230898e+00, -1.32844362e+01],\n",
       "       [-3.59301090e+00, -8.48776340e+00],\n",
       "       [ 3.83128452e+00,  3.21993141e+01],\n",
       "       [ 1.31257801e+01, -1.68025455e+01],\n",
       "       [-5.18523645e+00, -6.76471281e+00],\n",
       "       [ 1.70716553e+01, -2.47675228e+01],\n",
       "       [ 1.10294189e+01, -2.12024269e+01],\n",
       "       [-4.22263288e+00,  3.43478050e+01],\n",
       "       [ 4.10214615e+00,  2.55614433e+01],\n",
       "       [ 4.20150042e+00,  4.09375992e+01],\n",
       "       [-5.91762829e+00, -2.00527878e+01],\n",
       "       [-1.32491064e+01, -1.82134399e+01],\n",
       "       [-7.99969864e+00, -1.70059757e+01],\n",
       "       [ 3.27317071e+00,  4.20385666e+01],\n",
       "       [-3.99807543e-01,  3.26610069e+01],\n",
       "       [-2.89897943e+00, -1.09992962e+01],\n",
       "       [ 1.62795200e+01, -2.59023094e+01],\n",
       "       [-1.48024740e+01,  3.54396367e+00],\n",
       "       [ 3.58099729e-01,  4.02226143e+01],\n",
       "       [ 1.05588522e+01, -1.27552490e+01],\n",
       "       [ 1.37009296e+01, -2.16849480e+01],\n",
       "       [ 5.97265005e+00,  3.88998108e+01],\n",
       "       [ 1.00362453e+01, -1.42359390e+01],\n",
       "       [-7.46076965e+00, -7.79523373e+00],\n",
       "       [-5.86316872e+00, -1.70950222e+01],\n",
       "       [-1.35467768e+01, -1.73212090e+01],\n",
       "       [ 1.86735678e+00, -1.92456894e+01],\n",
       "       [ 5.32794619e+00,  2.46887341e+01],\n",
       "       [-1.33025236e+01, -2.28988647e+00],\n",
       "       [ 9.65423012e+00, -2.24083691e+01],\n",
       "       [-5.88309336e+00,  2.52790117e+00],\n",
       "       [-4.47641754e+00,  5.34133863e+00],\n",
       "       [-5.68527031e+00, -1.36214352e+01],\n",
       "       [ 1.28720415e+00,  3.79939575e+01],\n",
       "       [-3.94901657e+00, -1.29935961e+01],\n",
       "       [-5.90432787e+00, -9.71931076e+00],\n",
       "       [ 7.06739843e-01, -1.93337536e+01],\n",
       "       [ 2.56740594e+00,  4.20725403e+01],\n",
       "       [-1.18829842e+01, -4.69220400e+00],\n",
       "       [ 7.47644901e+00, -1.53418856e+01],\n",
       "       [ 1.45584011e+00, -1.18085938e+01],\n",
       "       [-4.64355755e+00, -9.51640415e+00],\n",
       "       [-4.81503630e+00,  2.83036304e+00],\n",
       "       [-4.41947728e-01,  3.35939598e+01],\n",
       "       [ 1.55373507e+01, -2.45395947e+01],\n",
       "       [ 3.89613366e+00, -2.06495228e+01],\n",
       "       [ 1.62255039e+01, -2.59055824e+01],\n",
       "       [ 6.55579376e+00,  3.33057365e+01],\n",
       "       [-4.64126492e+00,  5.89323759e+00],\n",
       "       [ 3.89827800e+00,  3.36406059e+01],\n",
       "       [-4.82270908e+00,  6.98831081e+00],\n",
       "       [ 1.42581558e+00,  3.41319847e+01],\n",
       "       [ 1.34976530e+01, -2.22443409e+01],\n",
       "       [-1.22950516e+01,  3.69902277e+00],\n",
       "       [-1.60954018e+01,  6.38575459e+00],\n",
       "       [-3.76639295e+00, -1.42652845e+01],\n",
       "       [-4.95981836e+00,  6.12320280e+00],\n",
       "       [ 9.61011314e+00, -2.08508091e+01],\n",
       "       [ 7.94720173e+00, -2.19270744e+01],\n",
       "       [-7.59214067e+00, -1.88361206e+01],\n",
       "       [ 1.89401283e+01, -2.22950401e+01],\n",
       "       [-1.23381205e+01,  3.33174109e+00],\n",
       "       [-5.96386337e+00, -1.52769718e+01],\n",
       "       [ 1.71607933e+01, -2.57889671e+01],\n",
       "       [ 1.05222120e+01, -1.51720533e+01],\n",
       "       [-4.08464527e+00,  3.46340294e+01],\n",
       "       [ 9.96953964e+00, -2.15002899e+01],\n",
       "       [ 1.79422169e+01, -1.99595451e+01],\n",
       "       [ 6.68640995e+00,  4.18849220e+01],\n",
       "       [ 1.63504088e+00,  3.62694168e+01],\n",
       "       [ 1.78302021e+01, -2.17340260e+01],\n",
       "       [-1.21960955e+01,  3.19007325e+00],\n",
       "       [-2.72617531e+00, -1.88925838e+01],\n",
       "       [-6.91648579e+00, -1.41718912e+01],\n",
       "       [-1.38279125e-01,  3.74746399e+01],\n",
       "       [ 4.66690350e+00,  5.34021282e+00],\n",
       "       [-1.50203524e+01,  4.74765015e+00],\n",
       "       [-2.18575573e+00,  3.67193871e+01],\n",
       "       [ 1.37670097e+01, -2.62237434e+01],\n",
       "       [ 1.10458660e+01, -1.87663879e+01],\n",
       "       [ 7.72322893e+00,  4.25438614e+01],\n",
       "       [-3.01984811e+00,  3.36348076e+01],\n",
       "       [ 3.79060483e+00,  2.56395016e+01],\n",
       "       [ 3.14997745e+00, -2.04753761e+01],\n",
       "       [ 3.59640336e+00, -2.03007107e+01],\n",
       "       [ 4.55262756e+00,  2.49258938e+01],\n",
       "       [ 3.39528823e+00,  3.72187729e+01],\n",
       "       [-6.82868481e+00, -5.89720440e+00],\n",
       "       [-5.36276960e+00, -1.69485588e+01],\n",
       "       [-1.65119255e+00, -5.91334724e+00],\n",
       "       [ 3.34585118e+00, -1.76844158e+01],\n",
       "       [ 3.62089038e+00, -1.03193684e+01],\n",
       "       [-3.42741656e+00,  3.47483177e+01],\n",
       "       [ 1.86280978e+00,  3.45670929e+01],\n",
       "       [-8.41257286e+00, -1.90447369e+01],\n",
       "       [-7.16204643e+00, -9.42504692e+00],\n",
       "       [-5.20780468e+00,  3.02360511e+00],\n",
       "       [-1.46809301e+01,  3.90947747e+00],\n",
       "       [ 1.61140900e+01, -2.55590744e+01],\n",
       "       [-1.39246387e+01, -1.82101631e+01],\n",
       "       [-8.57529926e+00, -1.92373466e+01],\n",
       "       [-6.53998327e+00, -6.11035728e+00],\n",
       "       [-1.16248617e+01,  3.26950979e+00],\n",
       "       [ 1.78581123e+01, -2.07479343e+01],\n",
       "       [-8.85788155e+00, -1.87375565e+01],\n",
       "       [ 2.39555240e+00,  4.25544968e+01],\n",
       "       [ 6.94940090e-01, -9.59737587e+00],\n",
       "       [-1.46293039e+01,  4.57896662e+00],\n",
       "       [ 1.43421259e+01, -2.27903061e+01],\n",
       "       [ 5.93601751e+00,  3.75484467e+01],\n",
       "       [-1.13485241e+01, -4.14686203e+00],\n",
       "       [ 2.07696795e+00,  4.23170624e+01],\n",
       "       [ 4.59115839e+00,  3.36347313e+01],\n",
       "       [-1.54107141e+01,  4.31269646e+00],\n",
       "       [ 1.54477179e+00,  4.23950500e+01],\n",
       "       [ 2.34931803e+00, -1.46956272e+01],\n",
       "       [-2.40187216e+00, -6.37395763e+00],\n",
       "       [ 1.60581856e+01, -2.30097198e+01],\n",
       "       [ 1.77064075e+01, -2.79513435e+01],\n",
       "       [-2.95112538e+00, -1.54284449e+01],\n",
       "       [ 8.92637253e+00, -1.99149761e+01],\n",
       "       [-6.65421772e+00, -1.89567699e+01],\n",
       "       [ 3.75439072e+00,  3.82325401e+01],\n",
       "       [-4.00793648e+00,  5.02958488e+00],\n",
       "       [ 2.64167643e+00, -1.92146549e+01],\n",
       "       [-3.16558933e+00, -1.10447893e+01],\n",
       "       [-1.39039164e+01, -5.31263399e+00],\n",
       "       [-5.52733421e+00,  3.03149414e+00],\n",
       "       [ 1.54384196e+00,  6.77397251e+00],\n",
       "       [ 4.47503710e+00,  3.47123566e+01],\n",
       "       [ 1.32568607e+01, -1.51493587e+01],\n",
       "       [ 5.18581772e+00,  4.87693167e+00],\n",
       "       [-3.97279096e+00, -1.55854435e+01],\n",
       "       [ 8.18214321e+00, -1.90273628e+01],\n",
       "       [ 9.14711666e+00, -2.11461697e+01],\n",
       "       [ 6.52856541e+00,  3.62385330e+01],\n",
       "       [ 1.40417838e+00,  3.87040405e+01],\n",
       "       [-7.02107000e+00, -1.53383436e+01],\n",
       "       [ 5.14270353e+00, -1.43907375e+01],\n",
       "       [ 4.77926636e+00,  3.96562691e+01],\n",
       "       [ 1.71908748e+00,  3.35281258e+01],\n",
       "       [-7.01013088e-01, -1.18978148e+01],\n",
       "       [ 6.03093910e+00,  2.83698678e+00],\n",
       "       [ 1.71708641e+01, -2.20126667e+01],\n",
       "       [ 6.72343588e+00,  3.37419052e+01],\n",
       "       [ 6.42909336e+00, -1.14095278e+01],\n",
       "       [ 1.74961643e+01, -2.53537350e+01],\n",
       "       [ 6.91205788e+00,  3.20488625e+01],\n",
       "       [-1.24764776e+01, -3.41970992e+00],\n",
       "       [-8.68510723e+00, -1.83063068e+01],\n",
       "       [-3.08135420e-01,  3.13442879e+01],\n",
       "       [ 5.83110094e-01, -1.25576200e+01],\n",
       "       [-2.49573779e+00,  3.61418114e+01],\n",
       "       [-5.74500895e+00,  2.97604370e+00],\n",
       "       [-6.21576166e+00, -1.95272484e+01],\n",
       "       [ 1.37455931e+01, -2.61589489e+01],\n",
       "       [ 1.39503544e-02, -1.22249155e+01],\n",
       "       [ 1.02672377e+01, -1.21496372e+01],\n",
       "       [-7.89577961e-01, -1.55993233e+01],\n",
       "       [-1.20004778e+01, -6.56955147e+00],\n",
       "       [-1.23119707e+01, -1.88553791e+01],\n",
       "       [ 1.82888305e+00, -1.08820114e+01],\n",
       "       [ 1.80973930e+01, -2.43172626e+01],\n",
       "       [ 5.09793520e+00,  3.23353691e+01],\n",
       "       [-1.31239290e+01, -6.39554644e+00],\n",
       "       [ 3.26484394e+00,  3.48055534e+01],\n",
       "       [-4.88650513e+00, -1.18877802e+01],\n",
       "       [-1.32747393e+01, -1.76422920e+01],\n",
       "       [ 1.35631533e+01, -2.15204487e+01],\n",
       "       [ 4.04948568e+00,  6.92100239e+00],\n",
       "       [ 3.86972141e+00,  3.45549507e+01],\n",
       "       [-1.52958832e+01,  4.20553875e+00],\n",
       "       [ 1.06146164e+01, -1.33893757e+01],\n",
       "       [-1.55329370e+01,  3.47359705e+00],\n",
       "       [-1.50207253e+01,  3.08649468e+00],\n",
       "       [-2.05728245e+00,  3.17645054e+01],\n",
       "       [ 4.97575670e-01, -1.91406498e+01],\n",
       "       [ 3.03872395e+00, -1.14924822e+01],\n",
       "       [-2.68496704e+00,  3.60555420e+01],\n",
       "       [ 1.26982546e+01, -1.39083138e+01],\n",
       "       [ 1.59735899e+01, -2.43371944e+01],\n",
       "       [-1.25969276e+01, -6.41103125e+00],\n",
       "       [-4.86192846e+00,  6.51221514e+00],\n",
       "       [ 1.38850527e+01, -2.58924427e+01],\n",
       "       [ 5.38772249e+00,  3.79920502e+01],\n",
       "       [-3.93982720e+00,  3.51823807e+01],\n",
       "       [ 2.04113626e+00,  3.89874229e+01],\n",
       "       [ 5.33045006e+00,  5.53204346e+00],\n",
       "       [ 8.65358829e+00, -2.30177879e+01],\n",
       "       [ 1.80170393e+00,  3.79654694e+01],\n",
       "       [-1.33590260e+01, -2.42735696e+00],\n",
       "       [ 1.05378425e+00, -9.34854507e+00],\n",
       "       [ 5.40271330e+00,  4.37895203e+00],\n",
       "       [-4.38416290e+00, -1.00939722e+01],\n",
       "       [ 6.04725361e+00,  5.10509539e+00],\n",
       "       [ 4.28092241e+00, -2.04672451e+01],\n",
       "       [ 2.57045150e+00,  3.27867126e+01],\n",
       "       [ 1.11572695e+01, -1.65135059e+01],\n",
       "       [-3.01275086e+00, -6.64729261e+00],\n",
       "       [-1.86446881e+00,  3.45557899e+01],\n",
       "       [ 1.10003033e+01, -2.18676128e+01],\n",
       "       [ 1.32245646e+01, -1.50280008e+01],\n",
       "       [ 6.26473475e+00,  4.63502026e+00],\n",
       "       [ 1.58410435e+01, -2.29012375e+01],\n",
       "       [-5.38759804e+00,  4.46060717e-01],\n",
       "       [ 4.62189531e+00, -1.43899937e+01],\n",
       "       [-8.02569199e+00, -9.34517002e+00],\n",
       "       [ 5.38862038e+00,  3.66013374e+01],\n",
       "       [ 1.20275192e+01, -2.28608837e+01],\n",
       "       [-5.41193247e+00, -8.91844940e+00],\n",
       "       [-1.39978981e+01, -1.73344307e+01],\n",
       "       [-1.09490852e+01, -4.74504614e+00],\n",
       "       [ 1.02965212e+01, -1.88556175e+01],\n",
       "       [ 9.50713813e-01,  3.91076126e+01],\n",
       "       [-1.55024981e+00, -1.52930031e+01],\n",
       "       [ 4.40736866e+00,  3.31256638e+01],\n",
       "       [-1.61804466e+01,  6.27417231e+00],\n",
       "       [ 7.70216942e-01, -1.55786266e+01],\n",
       "       [ 7.38430119e+00,  3.41646805e+01],\n",
       "       [ 8.02787209e+00, -1.66236439e+01],\n",
       "       [ 1.92618728e+00, -1.27792873e+01],\n",
       "       [-1.31201210e+01, -5.65024567e+00],\n",
       "       [-8.82850647e-01,  3.34180298e+01],\n",
       "       [-1.36831570e+01, -1.81366787e+01],\n",
       "       [ 6.25167608e+00,  4.10715065e+01],\n",
       "       [ 8.36063549e-02,  3.97826042e+01],\n",
       "       [-4.94971228e+00, -1.45484781e+01],\n",
       "       [ 1.48422563e+00, -1.00352058e+01],\n",
       "       [ 9.33285058e-02,  3.56679459e+01],\n",
       "       [ 1.04814796e+01, -1.96352654e+01],\n",
       "       [ 8.94022560e+00, -1.42465067e+01],\n",
       "       [-1.38235064e+01, -1.78132172e+01],\n",
       "       [ 8.24747849e+00, -1.94616127e+01],\n",
       "       [-4.32794929e-01, -8.60641766e+00],\n",
       "       [-4.81222391e+00, -9.40689850e+00],\n",
       "       [-6.59063673e+00, -1.61384354e+01],\n",
       "       [ 3.46155286e+00,  4.13727264e+01],\n",
       "       [ 6.03855181e+00,  3.24494648e+00],\n",
       "       [-5.39354038e+00,  1.95355609e-01],\n",
       "       [ 4.43155813e+00, -1.68774357e+01],\n",
       "       [-4.32510281e+00, -6.71835470e+00],\n",
       "       [-1.45435581e+01,  4.32432461e+00],\n",
       "       [-3.64340711e+00, -1.93159676e+01],\n",
       "       [-2.19460821e+00,  3.36355858e+01],\n",
       "       [-3.66029787e+00, -9.57695389e+00],\n",
       "       [ 1.14572906e+01, -1.99683380e+01],\n",
       "       [ 1.74398670e+01, -1.95396729e+01],\n",
       "       [ 3.52889347e+00,  2.54991207e+01],\n",
       "       [ 8.85950279e+00, -1.88268394e+01],\n",
       "       [ 3.12803340e+00,  3.21887627e+01],\n",
       "       [-5.22916222e+00, -1.27933922e+01],\n",
       "       [ 5.48479939e+00,  3.48025208e+01],\n",
       "       [ 1.06062288e+01, -2.35861244e+01],\n",
       "       [-1.41774158e+01, -3.34568214e+00],\n",
       "       [ 4.22664165e+00,  3.22491875e+01],\n",
       "       [ 1.02717285e+01, -2.36104641e+01],\n",
       "       [-5.23523331e+00,  1.95864701e+00],\n",
       "       [ 1.07816925e+01, -1.53393106e+01],\n",
       "       [-3.23796570e-01, -1.59757357e+01],\n",
       "       [ 1.24718332e+01, -2.39656448e+01],\n",
       "       [-4.81956387e+00, -1.19486866e+01],\n",
       "       [ 1.22927475e+01, -1.65408993e+01],\n",
       "       [-1.26454449e+01, -6.14991999e+00],\n",
       "       [-6.48427629e+00, -9.14256477e+00],\n",
       "       [ 2.17777610e+00,  3.36116486e+01],\n",
       "       [ 3.59274554e+00,  6.02398491e+00],\n",
       "       [ 6.41538572e+00,  3.20467186e+00],\n",
       "       [ 5.41695881e+00,  3.42258492e+01],\n",
       "       [ 1.19573565e+01, -2.26731586e+01],\n",
       "       [ 2.80276895e+00,  4.03016815e+01],\n",
       "       [ 4.26519537e+00, -1.98836632e+01],\n",
       "       [ 4.41014290e+00,  4.17193794e+01],\n",
       "       [ 1.17784166e+01, -2.44625072e+01],\n",
       "       [-1.25892258e+01, -1.92777290e+01],\n",
       "       [-7.14091349e+00, -9.47164822e+00],\n",
       "       [-4.07446051e+00,  6.07799339e+00],\n",
       "       [-1.53860235e+01,  3.13353252e+00],\n",
       "       [-3.88465953e+00,  6.39660788e+00],\n",
       "       [ 2.52838230e+00,  3.14521427e+01],\n",
       "       [-6.28543949e+00, -1.79786186e+01],\n",
       "       [ 3.66512513e+00,  2.50319767e+01],\n",
       "       [-2.86605024e+00, -1.38987646e+01],\n",
       "       [ 2.71931148e+00,  3.32081909e+01],\n",
       "       [ 4.32718325e+00, -1.70311985e+01],\n",
       "       [ 2.24667382e+00, -1.29517250e+01],\n",
       "       [ 7.63042688e-01,  3.33636513e+01],\n",
       "       [-1.19180193e+01,  3.26953387e+00],\n",
       "       [-1.41863232e+01, -3.45027637e+00],\n",
       "       [-1.36622591e+01, -7.65248919e+00],\n",
       "       [ 1.07697363e+01, -2.30735664e+01],\n",
       "       [ 3.46713543e+00, -1.33888588e+01],\n",
       "       [-1.10780640e+01, -4.88577843e+00],\n",
       "       [ 1.18020034e+00, -1.39925880e+01],\n",
       "       [ 1.73185272e+01, -2.29603691e+01],\n",
       "       [ 6.09559965e+00,  3.44568138e+01],\n",
       "       [-1.23228979e+01, -4.04127264e+00]], dtype=float32)"
      ]
     },
     "execution_count": 166,
     "metadata": {},
     "output_type": "execute_result"
    }
   ],
   "source": [
    "X_train_tsne = tsne.fit_transform(X_train_scaled)\n",
    "X_train_tsne"
   ]
  },
  {
   "cell_type": "code",
   "execution_count": 167,
   "id": "ef167ac0-123e-4e68-af02-f9b9495b1619",
   "metadata": {},
   "outputs": [
    {
     "data": {
      "text/plain": [
       "(404, 2)"
      ]
     },
     "execution_count": 167,
     "metadata": {},
     "output_type": "execute_result"
    }
   ],
   "source": [
    "X_train_tsne.shape"
   ]
  },
  {
   "cell_type": "code",
   "execution_count": 168,
   "id": "4039ec63-bf76-4b4e-acd2-13fd3dd8e067",
   "metadata": {},
   "outputs": [
    {
     "data": {
      "text/plain": [
       "<matplotlib.collections.PathCollection at 0x1fefceefa90>"
      ]
     },
     "execution_count": 168,
     "metadata": {},
     "output_type": "execute_result"
    },
    {
     "data": {
      "image/png": "[encoded data removed]",
      "text/plain": [
       "<Figure size 432x288 with 1 Axes>"
      ]
     },
     "metadata": {
      "needs_background": "light"
     },
     "output_type": "display_data"
    }
   ],
   "source": [
    "plt.scatter(X_train_tsne[:,0],X_train_tsne[:,1])"
   ]
  },
  {
   "cell_type": "markdown",
   "id": "0c52e1e1-628c-4d0d-a919-eb00bb065953",
   "metadata": {},
   "source": [
    "# Задание 2\n",
    "С помощью KMeans разбейте данные из тренировочного набора на 3 кластера,\n",
    "используйте все признаки из датафрейма X_train.\n",
    "Параметр max_iter должен быть равен 100, random_state сделайте равным 42.\n",
    "Постройте еще раз диаграмму рассеяния на данных, полученных с помощью TSNE,\n",
    "и раскрасьте точки из разных кластеров разными цветами.\n",
    "Вычислите средние значения price и CRIM в разных кластерах.\n"
   ]
  },
  {
   "cell_type": "code",
   "execution_count": 169,
   "id": "de618987-31a6-4f75-841f-93f155552928",
   "metadata": {},
   "outputs": [],
   "source": [
    "kmeans = KMeans(n_clusters=3,max_iter=100,random_state=42)"
   ]
  },
  {
   "cell_type": "code",
   "execution_count": 170,
   "id": "b44bf90e-7294-49a0-8706-67aaded76e88",
   "metadata": {},
   "outputs": [],
   "source": [
    "labels_train = kmeans.fit_predict(X_train_scaled)"
   ]
  },
  {
   "cell_type": "code",
   "execution_count": 171,
   "id": "a162f719-6dd8-4f57-9c21-a5bd75945963",
   "metadata": {},
   "outputs": [
    {
     "data": {
      "text/plain": [
       "2    185\n",
       "0    115\n",
       "1    104\n",
       "dtype: int64"
      ]
     },
     "execution_count": 171,
     "metadata": {},
     "output_type": "execute_result"
    }
   ],
   "source": [
    "pd.value_counts(labels_train)"
   ]
  },
  {
   "cell_type": "code",
   "execution_count": 172,
   "id": "6c4df08a-2f2e-4b7e-8af8-b9a2924ad5d1",
   "metadata": {},
   "outputs": [],
   "source": [
    "labels_test = kmeans.predict(X_test_scaled)"
   ]
  },
  {
   "cell_type": "code",
   "execution_count": 173,
   "id": "2cd29675-410d-439b-b2a6-933215f4d668",
   "metadata": {},
   "outputs": [
    {
     "data": {
      "text/plain": [
       "<matplotlib.collections.PathCollection at 0x1fefcd7fe20>"
      ]
     },
     "execution_count": 173,
     "metadata": {},
     "output_type": "execute_result"
    },
    {
     "data": {
      "image/png": "[encoded data removed]",
      "text/plain": [
       "<Figure size 432x288 with 1 Axes>"
      ]
     },
     "metadata": {
      "needs_background": "light"
     },
     "output_type": "display_data"
    }
   ],
   "source": [
    "plt.scatter(X_train_tsne[:,0],X_train_tsne[:,1],c=labels_train)"
   ]
  },
  {
   "cell_type": "code",
   "execution_count": 174,
   "id": "75d7c9d9-8d71-4ec0-a4d9-8b610333f1e5",
   "metadata": {},
   "outputs": [
    {
     "data": {
      "text/plain": [
       "price    22.796535\n",
       "dtype: float64"
      ]
     },
     "execution_count": 174,
     "metadata": {},
     "output_type": "execute_result"
    }
   ],
   "source": [
    "y_train.mean()"
   ]
  },
  {
   "cell_type": "code",
   "execution_count": 175,
   "id": "0939de3e-b5f2-49d1-b8a8-87ddb17a6bf6",
   "metadata": {},
   "outputs": [
    {
     "data": {
      "text/plain": [
       "price    27.113913\n",
       "dtype: float64"
      ]
     },
     "execution_count": 175,
     "metadata": {},
     "output_type": "execute_result"
    }
   ],
   "source": [
    "y_train[labels_train==0].mean()"
   ]
  },
  {
   "cell_type": "code",
   "execution_count": 176,
   "id": "2515e26b-f023-4c19-92dc-2e86d23feedc",
   "metadata": {},
   "outputs": [
    {
     "data": {
      "text/plain": [
       "price    16.225\n",
       "dtype: float64"
      ]
     },
     "execution_count": 176,
     "metadata": {},
     "output_type": "execute_result"
    }
   ],
   "source": [
    "y_train[labels_train==1].mean()"
   ]
  },
  {
   "cell_type": "code",
   "execution_count": 177,
   "id": "dff56231-d7f4-49d3-8107-c7dad124c1f2",
   "metadata": {},
   "outputs": [
    {
     "data": {
      "text/plain": [
       "price    23.807027\n",
       "dtype: float64"
      ]
     },
     "execution_count": 177,
     "metadata": {},
     "output_type": "execute_result"
    }
   ],
   "source": [
    "y_train[labels_train==2].mean()"
   ]
  },
  {
   "cell_type": "code",
   "execution_count": 178,
   "id": "6d7f99d2-8dc5-436f-85f1-5fe3b004fbd0",
   "metadata": {},
   "outputs": [
    {
     "data": {
      "text/plain": [
       "0.08425226086956525"
      ]
     },
     "execution_count": 178,
     "metadata": {},
     "output_type": "execute_result"
    }
   ],
   "source": [
    "X_train.loc[labels_train==0,'CRIM'].mean()"
   ]
  },
  {
   "cell_type": "code",
   "execution_count": 179,
   "id": "723d6fa0-c90e-4461-9659-e1f7c18a0452",
   "metadata": {},
   "outputs": [
    {
     "data": {
      "text/plain": [
       "12.804150384615385"
      ]
     },
     "execution_count": 179,
     "metadata": {},
     "output_type": "execute_result"
    }
   ],
   "source": [
    "X_train.loc[labels_train==1,'CRIM'].mean()"
   ]
  },
  {
   "cell_type": "code",
   "execution_count": 181,
   "id": "159ec8a6-bf72-471b-9e39-cf1e5040760b",
   "metadata": {},
   "outputs": [
    {
     "data": {
      "text/plain": [
       "0.6311659459459459"
      ]
     },
     "execution_count": 181,
     "metadata": {},
     "output_type": "execute_result"
    }
   ],
   "source": [
    "X_train.loc[labels_train==2,'CRIM'].mean()"
   ]
  },
  {
   "cell_type": "code",
   "execution_count": null,
   "id": "0dd7cf42-6f3c-41c6-8d4c-257f1f4d3889",
   "metadata": {},
   "outputs": [],
   "source": []
  }
 ],
 "metadata": {
  "kernelspec": {
   "display_name": "Python 3 (ipykernel)",
   "language": "python",
   "name": "python3"
  },
  "language_info": {
   "codemirror_mode": {
    "name": "ipython",
    "version": 3
   },
   "file_extension": ".py",
   "mimetype": "text/x-python",
   "name": "python",
   "nbconvert_exporter": "python",
   "pygments_lexer": "ipython3",
   "version": "3.9.7"
  }
 },
 "nbformat": 4,
 "nbformat_minor": 5
}
